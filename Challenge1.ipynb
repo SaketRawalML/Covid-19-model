{
  "nbformat": 4,
  "nbformat_minor": 0,
  "metadata": {
    "colab": {
      "name": "Challenge1.ipynb",
      "provenance": []
    },
    "kernelspec": {
      "name": "python3",
      "display_name": "Python 3"
    },
    "language_info": {
      "name": "python"
    }
  },
  "cells": [
    {
      "cell_type": "code",
      "metadata": {
        "id": "DZupqa1H8Bhv"
      },
      "source": [
        "import pandas as pd\n",
        "import matplotlib.pyplot as plt\n",
        "from sklearn.model_selection import train_test_split\n",
        "from sklearn.linear_model import LinearRegression\n",
        "from sklearn import metrics"
      ],
      "execution_count": null,
      "outputs": []
    },
    {
      "cell_type": "code",
      "metadata": {
        "id": "IURN4Gb78Phw"
      },
      "source": [
        "covid_dataset = pd.read_csv('/content/StatewiseTestingDetails.csv')"
      ],
      "execution_count": null,
      "outputs": []
    },
    {
      "cell_type": "code",
      "metadata": {
        "colab": {
          "base_uri": "https://localhost:8080/",
          "height": 204
        },
        "id": "dO9g7GUF8suf",
        "outputId": "7324d599-c223-4a34-ed78-e297d6fb1a52"
      },
      "source": [
        "covid_dataset.head()"
      ],
      "execution_count": null,
      "outputs": [
        {
          "output_type": "execute_result",
          "data": {
            "text/html": [
              "<div>\n",
              "<style scoped>\n",
              "    .dataframe tbody tr th:only-of-type {\n",
              "        vertical-align: middle;\n",
              "    }\n",
              "\n",
              "    .dataframe tbody tr th {\n",
              "        vertical-align: top;\n",
              "    }\n",
              "\n",
              "    .dataframe thead th {\n",
              "        text-align: right;\n",
              "    }\n",
              "</style>\n",
              "<table border=\"1\" class=\"dataframe\">\n",
              "  <thead>\n",
              "    <tr style=\"text-align: right;\">\n",
              "      <th></th>\n",
              "      <th>Date</th>\n",
              "      <th>State</th>\n",
              "      <th>TotalSamples</th>\n",
              "      <th>Negative</th>\n",
              "      <th>Positive</th>\n",
              "    </tr>\n",
              "  </thead>\n",
              "  <tbody>\n",
              "    <tr>\n",
              "      <th>0</th>\n",
              "      <td>2020-04-17</td>\n",
              "      <td>Andaman and Nicobar Islands</td>\n",
              "      <td>1403.0</td>\n",
              "      <td>1210</td>\n",
              "      <td>12.0</td>\n",
              "    </tr>\n",
              "    <tr>\n",
              "      <th>1</th>\n",
              "      <td>2020-04-24</td>\n",
              "      <td>Andaman and Nicobar Islands</td>\n",
              "      <td>2679.0</td>\n",
              "      <td>NaN</td>\n",
              "      <td>27.0</td>\n",
              "    </tr>\n",
              "    <tr>\n",
              "      <th>2</th>\n",
              "      <td>2020-04-27</td>\n",
              "      <td>Andaman and Nicobar Islands</td>\n",
              "      <td>2848.0</td>\n",
              "      <td>NaN</td>\n",
              "      <td>33.0</td>\n",
              "    </tr>\n",
              "    <tr>\n",
              "      <th>3</th>\n",
              "      <td>2020-05-01</td>\n",
              "      <td>Andaman and Nicobar Islands</td>\n",
              "      <td>3754.0</td>\n",
              "      <td>NaN</td>\n",
              "      <td>33.0</td>\n",
              "    </tr>\n",
              "    <tr>\n",
              "      <th>4</th>\n",
              "      <td>2020-05-16</td>\n",
              "      <td>Andaman and Nicobar Islands</td>\n",
              "      <td>6677.0</td>\n",
              "      <td>NaN</td>\n",
              "      <td>33.0</td>\n",
              "    </tr>\n",
              "  </tbody>\n",
              "</table>\n",
              "</div>"
            ],
            "text/plain": [
              "         Date                        State  TotalSamples Negative  Positive\n",
              "0  2020-04-17  Andaman and Nicobar Islands        1403.0     1210      12.0\n",
              "1  2020-04-24  Andaman and Nicobar Islands        2679.0      NaN      27.0\n",
              "2  2020-04-27  Andaman and Nicobar Islands        2848.0      NaN      33.0\n",
              "3  2020-05-01  Andaman and Nicobar Islands        3754.0      NaN      33.0\n",
              "4  2020-05-16  Andaman and Nicobar Islands        6677.0      NaN      33.0"
            ]
          },
          "metadata": {
            "tags": []
          },
          "execution_count": 77
        }
      ]
    },
    {
      "cell_type": "code",
      "metadata": {
        "colab": {
          "base_uri": "https://localhost:8080/"
        },
        "id": "eZ5jGmEV8vXO",
        "outputId": "8723cb1a-8039-40fb-daba-500a06af4918"
      },
      "source": [
        "covid_dataset.shape"
      ],
      "execution_count": null,
      "outputs": [
        {
          "output_type": "execute_result",
          "data": {
            "text/plain": [
              "(14098, 5)"
            ]
          },
          "metadata": {
            "tags": []
          },
          "execution_count": 78
        }
      ]
    },
    {
      "cell_type": "code",
      "metadata": {
        "colab": {
          "base_uri": "https://localhost:8080/"
        },
        "id": "8wmD7dzD86In",
        "outputId": "6c2a617a-1170-42a9-9dd5-c99c4437ff6e"
      },
      "source": [
        "covid_dataset.info()"
      ],
      "execution_count": null,
      "outputs": [
        {
          "output_type": "stream",
          "text": [
            "<class 'pandas.core.frame.DataFrame'>\n",
            "RangeIndex: 14098 entries, 0 to 14097\n",
            "Data columns (total 5 columns):\n",
            " #   Column        Non-Null Count  Dtype  \n",
            "---  ------        --------------  -----  \n",
            " 0   Date          14098 non-null  object \n",
            " 1   State         14098 non-null  object \n",
            " 2   TotalSamples  14098 non-null  float64\n",
            " 3   Negative      6348 non-null   object \n",
            " 4   Positive      5503 non-null   float64\n",
            "dtypes: float64(2), object(3)\n",
            "memory usage: 550.8+ KB\n"
          ],
          "name": "stdout"
        }
      ]
    },
    {
      "cell_type": "code",
      "metadata": {
        "colab": {
          "base_uri": "https://localhost:8080/"
        },
        "id": "i-Y6NIpM8-GI",
        "outputId": "76aa26ae-6960-40d9-e219-ba11f21905ce"
      },
      "source": [
        "covid_dataset.isnull().sum()"
      ],
      "execution_count": null,
      "outputs": [
        {
          "output_type": "execute_result",
          "data": {
            "text/plain": [
              "Date               0\n",
              "State              0\n",
              "TotalSamples       0\n",
              "Negative        7750\n",
              "Positive        8595\n",
              "dtype: int64"
            ]
          },
          "metadata": {
            "tags": []
          },
          "execution_count": 80
        }
      ]
    },
    {
      "cell_type": "code",
      "metadata": {
        "id": "kWzVCwBA9E9k"
      },
      "source": [
        "covid_dataset['Positive'].fillna(covid_dataset['Positive'].mean(), inplace= True)"
      ],
      "execution_count": null,
      "outputs": []
    },
    {
      "cell_type": "code",
      "metadata": {
        "colab": {
          "base_uri": "https://localhost:8080/"
        },
        "id": "i3z3qWLE_W2t",
        "outputId": "f07f9ce0-6cba-4084-8a2d-d6bc14d4cb88"
      },
      "source": [
        "covid_dataset.isnull().sum()"
      ],
      "execution_count": null,
      "outputs": [
        {
          "output_type": "execute_result",
          "data": {
            "text/plain": [
              "Date               0\n",
              "State              0\n",
              "TotalSamples       0\n",
              "Negative        7750\n",
              "Positive           0\n",
              "dtype: int64"
            ]
          },
          "metadata": {
            "tags": []
          },
          "execution_count": 82
        }
      ]
    },
    {
      "cell_type": "code",
      "metadata": {
        "id": "_juGcIEw_vAG"
      },
      "source": [
        "z= covid_dataset.drop(columns='Negative', axis = 1, inplace= True)\n",
        "w = covid_dataset.drop(columns= 'Date', axis=1 , inplace= True)\n",
        "t = covid_dataset.drop(columns= 'State', axis=1 , inplace= True)"
      ],
      "execution_count": null,
      "outputs": []
    },
    {
      "cell_type": "code",
      "metadata": {
        "colab": {
          "base_uri": "https://localhost:8080/",
          "height": 204
        },
        "id": "CP2lGG4EAPDH",
        "outputId": "97a6fb2b-7722-4600-e882-c7a002e48237"
      },
      "source": [
        "covid_dataset.head()"
      ],
      "execution_count": null,
      "outputs": [
        {
          "output_type": "execute_result",
          "data": {
            "text/html": [
              "<div>\n",
              "<style scoped>\n",
              "    .dataframe tbody tr th:only-of-type {\n",
              "        vertical-align: middle;\n",
              "    }\n",
              "\n",
              "    .dataframe tbody tr th {\n",
              "        vertical-align: top;\n",
              "    }\n",
              "\n",
              "    .dataframe thead th {\n",
              "        text-align: right;\n",
              "    }\n",
              "</style>\n",
              "<table border=\"1\" class=\"dataframe\">\n",
              "  <thead>\n",
              "    <tr style=\"text-align: right;\">\n",
              "      <th></th>\n",
              "      <th>TotalSamples</th>\n",
              "      <th>Positive</th>\n",
              "    </tr>\n",
              "  </thead>\n",
              "  <tbody>\n",
              "    <tr>\n",
              "      <th>0</th>\n",
              "      <td>1403.0</td>\n",
              "      <td>12.0</td>\n",
              "    </tr>\n",
              "    <tr>\n",
              "      <th>1</th>\n",
              "      <td>2679.0</td>\n",
              "      <td>27.0</td>\n",
              "    </tr>\n",
              "    <tr>\n",
              "      <th>2</th>\n",
              "      <td>2848.0</td>\n",
              "      <td>33.0</td>\n",
              "    </tr>\n",
              "    <tr>\n",
              "      <th>3</th>\n",
              "      <td>3754.0</td>\n",
              "      <td>33.0</td>\n",
              "    </tr>\n",
              "    <tr>\n",
              "      <th>4</th>\n",
              "      <td>6677.0</td>\n",
              "      <td>33.0</td>\n",
              "    </tr>\n",
              "  </tbody>\n",
              "</table>\n",
              "</div>"
            ],
            "text/plain": [
              "   TotalSamples  Positive\n",
              "0        1403.0      12.0\n",
              "1        2679.0      27.0\n",
              "2        2848.0      33.0\n",
              "3        3754.0      33.0\n",
              "4        6677.0      33.0"
            ]
          },
          "metadata": {
            "tags": []
          },
          "execution_count": 84
        }
      ]
    },
    {
      "cell_type": "code",
      "metadata": {
        "id": "Z0k5lBI_AUX5"
      },
      "source": [
        "X = covid_dataset.drop(columns='Positive', axis=1)\n",
        "Y = covid_dataset['Positive']"
      ],
      "execution_count": null,
      "outputs": []
    },
    {
      "cell_type": "code",
      "metadata": {
        "colab": {
          "base_uri": "https://localhost:8080/"
        },
        "id": "d8nSUC75BVSC",
        "outputId": "1023df8a-eafb-4caa-fec1-791c6eea7ccc"
      },
      "source": [
        "print(X)\n",
        "print(Y)"
      ],
      "execution_count": null,
      "outputs": [
        {
          "output_type": "stream",
          "text": [
            "       TotalSamples\n",
            "0            1403.0\n",
            "1            2679.0\n",
            "2            2848.0\n",
            "3            3754.0\n",
            "4            6677.0\n",
            "...             ...\n",
            "14093    12645747.0\n",
            "14094    12716953.0\n",
            "14095    12789625.0\n",
            "14096    12859678.0\n",
            "14097    12919787.0\n",
            "\n",
            "[14098 rows x 1 columns]\n",
            "0           12.000000\n",
            "1           27.000000\n",
            "2           33.000000\n",
            "3           33.000000\n",
            "4           33.000000\n",
            "             ...     \n",
            "14093    53171.013265\n",
            "14094    53171.013265\n",
            "14095    53171.013265\n",
            "14096    53171.013265\n",
            "14097    53171.013265\n",
            "Name: Positive, Length: 14098, dtype: float64\n"
          ],
          "name": "stdout"
        }
      ]
    },
    {
      "cell_type": "code",
      "metadata": {
        "id": "JtFuNd7cBZ9n"
      },
      "source": [
        "X_train, X_test, Y_train, Y_test = train_test_split(X,Y,test_size=0.1, random_state=2)"
      ],
      "execution_count": null,
      "outputs": []
    },
    {
      "cell_type": "code",
      "metadata": {
        "id": "rxJJQ_VbBm9x"
      },
      "source": [
        "lin_reg_model  = LinearRegression()"
      ],
      "execution_count": null,
      "outputs": []
    },
    {
      "cell_type": "code",
      "metadata": {
        "colab": {
          "base_uri": "https://localhost:8080/"
        },
        "id": "fIYRFdMsBvdH",
        "outputId": "c8e8a2b5-b01e-4c76-8fbe-8311a5a7433c"
      },
      "source": [
        "lin_reg_model.fit(X_train, Y_train)"
      ],
      "execution_count": null,
      "outputs": [
        {
          "output_type": "execute_result",
          "data": {
            "text/plain": [
              "LinearRegression(copy_X=True, fit_intercept=True, n_jobs=None, normalize=False)"
            ]
          },
          "metadata": {
            "tags": []
          },
          "execution_count": 67
        }
      ]
    },
    {
      "cell_type": "code",
      "metadata": {
        "id": "9ddbrN44CYnR"
      },
      "source": [
        "# prediction on training data\n",
        "training_data_prediction = lin_reg_model.predict(X_train)"
      ],
      "execution_count": null,
      "outputs": []
    },
    {
      "cell_type": "code",
      "metadata": {
        "colab": {
          "base_uri": "https://localhost:8080/"
        },
        "id": "jxvfBjuiC4II",
        "outputId": "f4fd8d35-14ec-4c92-9985-e19d8f5fbdf4"
      },
      "source": [
        "# R square error\n",
        "error_score = metrics.r2_score(Y_train, training_data_prediction)\n",
        "print(error_score)"
      ],
      "execution_count": null,
      "outputs": [
        {
          "output_type": "stream",
          "text": [
            "0.013341629153508006\n"
          ],
          "name": "stdout"
        }
      ]
    },
    {
      "cell_type": "code",
      "metadata": {
        "colab": {
          "base_uri": "https://localhost:8080/",
          "height": 295
        },
        "id": "bMEB5bmzC9G5",
        "outputId": "1219ff06-14a2-4868-d4b4-12fa1eb22d51"
      },
      "source": [
        "plt.scatter(Y_train,training_data_prediction)\n",
        "plt.xlabel('Total Sample')\n",
        "plt.ylabel('Positive')\n",
        "plt.title('Total Sample vs Positive')\n",
        "plt.show()"
      ],
      "execution_count": null,
      "outputs": [
        {
          "output_type": "display_data",
          "data": {
            "image/png": "[encoded data removed]",
            "text/plain": [
              "<Figure size 432x288 with 1 Axes>"
            ]
          },
          "metadata": {
            "tags": [],
            "needs_background": "light"
          }
        }
      ]
    },
    {
      "cell_type": "code",
      "metadata": {
        "id": "gMYKF9ZsDHfY"
      },
      "source": [
        "# prediction on test data\n",
        "test_data_prediction = lin_reg_model.predict(X_test)"
      ],
      "execution_count": null,
      "outputs": []
    },
    {
      "cell_type": "code",
      "metadata": {
        "colab": {
          "base_uri": "https://localhost:8080/"
        },
        "id": "4WNKgWBGD6ZJ",
        "outputId": "ca990ced-c67f-48ad-cb2a-84094d56112d"
      },
      "source": [
        "# R square error\n",
        "error_score = metrics.r2_score(Y_test, test_data_prediction)\n",
        "print(error_score)"
      ],
      "execution_count": null,
      "outputs": [
        {
          "output_type": "stream",
          "text": [
            "0.013491912719612031\n"
          ],
          "name": "stdout"
        }
      ]
    },
    {
      "cell_type": "code",
      "metadata": {
        "colab": {
          "base_uri": "https://localhost:8080/",
          "height": 295
        },
        "id": "XXIONbAfD9kb",
        "outputId": "c87678c3-a6aa-48da-e537-25ad74770199"
      },
      "source": [
        "plt.scatter(Y_test,test_data_prediction)\n",
        "plt.xlabel('Total Sample')\n",
        "plt.ylabel('Positive')\n",
        "plt.title('Total Sample vs Positive')\n",
        "plt.show()"
      ],
      "execution_count": null,
      "outputs": [
        {
          "output_type": "display_data",
          "data": {
            "image/png": "[encoded data removed]",
            "text/plain": [
              "<Figure size 432x288 with 1 Axes>"
            ]
          },
          "metadata": {
            "tags": [],
            "needs_background": "light"
          }
        }
      ]
    }
  ]
}